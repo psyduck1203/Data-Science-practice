{
 "cells": [
  {
   "cell_type": "markdown",
   "metadata": {},
   "source": [
    "Q1. Write a function to compute 5/0 and use try/except to catch the exceptions."
   ]
  },
  {
   "cell_type": "code",
   "execution_count": 3,
   "metadata": {},
   "outputs": [
    {
     "name": "stdout",
     "output_type": "stream",
     "text": [
      "The code is having some kind of error: division by zero\n"
     ]
    }
   ],
   "source": [
    "#defining the function to compute 5/0\n",
    "def divide():\n",
    "    return 5/0\n",
    "\n",
    "#defining try/except to cath the exceptions\n",
    "try:\n",
    "    #calling the function\n",
    "    divide()\n",
    "except Exception as e :\n",
    "    print(\"The code is having some kind of error:\",e)"
   ]
  },
  {
   "cell_type": "markdown",
   "metadata": {},
   "source": [
    "Q2. Implement a Python program to generate all sentences where subject is in [\"Americans\", \"Indians\"] and verb is in [\"Play\", \"watch\"] and the object is in [\"Baseball\",\"cricket\"].\n",
    "    \n",
    "   Hint:Subject,Verb and Object should be declared in the program as shown below.\n",
    "        subjects=[\"Americans \",\"Indians\"]\n",
    "        verbs=[\"play\",\"watch\"]\n",
    "        objects=[\"Baseball\",\"Cricket\"]\n",
    "    \n",
    "   Output should come as below:\n",
    "   \n",
    "   \n",
    "   Americans play Baseball.\n",
    "   \n",
    "   Americans play Cricket.\n",
    "   \n",
    "   Americans watch Baseball.\n",
    "   \n",
    "   Americans watch Cricket.\n",
    "   \n",
    "   Indians play Baseball.\n",
    "   \n",
    "   Indians play Cricket.\n",
    "   \n",
    "   Indians watch Baseball.\n",
    "   \n",
    "   Indians watch Cricket."
   ]
  },
  {
   "cell_type": "code",
   "execution_count": 4,
   "metadata": {},
   "outputs": [
    {
     "name": "stdout",
     "output_type": "stream",
     "text": [
      "Americans  play Baseball.\n",
      "Americans  play Cricket.\n",
      "Americans  watch Baseball.\n",
      "Americans  watch Cricket.\n",
      "Indians play Baseball.\n",
      "Indians play Cricket.\n",
      "Indians watch Baseball.\n",
      "Indians watch Cricket.\n"
     ]
    }
   ],
   "source": [
    "#defining the subjects, verbs and objects\n",
    "subjects=[\"Americans \",\"Indians\"] \n",
    "verbs=[\"play\",\"watch\"] \n",
    "objects=[\"Baseball\",\"Cricket\"]\n",
    "\n",
    "#prinitig the required outputs\n",
    "for i in subjects:\n",
    "    for j in verbs:\n",
    "        for k in objects:\n",
    "            print( i + \" \" + j + \" \" + k + \".\")"
   ]
  }
 ],
 "metadata": {
  "kernelspec": {
   "display_name": "Python 3",
   "language": "python",
   "name": "python3"
  },
  "language_info": {
   "codemirror_mode": {
    "name": "ipython",
    "version": 3
   },
   "file_extension": ".py",
   "mimetype": "text/x-python",
   "name": "python",
   "nbconvert_exporter": "python",
   "pygments_lexer": "ipython3",
   "version": "3.7.6"
  }
 },
 "nbformat": 4,
 "nbformat_minor": 4
}

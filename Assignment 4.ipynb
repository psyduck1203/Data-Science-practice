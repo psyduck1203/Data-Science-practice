{
 "cells": [
  {
   "cell_type": "markdown",
   "metadata": {},
   "source": [
    "Q1.1 Write a Python Program(with class concepts) to find the area of the triangle using the below\n",
    "formula.\n",
    "area = (s*(s-a)*(s-b)*(s-c)) ** 0.5\n",
    "Function to take the length of the sides of triangle from user should be defined in the parent\n",
    "class and function to calculate the area should be defined in subclass."
   ]
  },
  {
   "cell_type": "code",
   "execution_count": 10,
   "metadata": {},
   "outputs": [
    {
     "name": "stdout",
     "output_type": "stream",
     "text": [
      "5\n",
      "5\n",
      "5\n",
      "area :  10.825317547305483\n"
     ]
    }
   ],
   "source": [
    "#defining the required class and functions\n",
    "class triangle: \n",
    "    def __init__(self,a,b,c): \n",
    "        self.a = float(a) \n",
    "        self.b = float(b) \n",
    "        self.c = float(c) \n",
    "    def area(self): \n",
    "        s=(self.a + self.b + self.c)/2 \n",
    "        return((s*(s-self.a)*(s-self.b)*(s-self.c))**0.5) \n",
    "\n",
    "#taking the inputs\n",
    "a = input()\n",
    "b = input()\n",
    "c = input()\n",
    "\n",
    "#calling the defined class\n",
    "t = triangle(a,b,c)\n",
    "\n",
    "#printing the output\n",
    "print(\"area :\",t.area())"
   ]
  },
  {
   "cell_type": "markdown",
   "metadata": {},
   "source": [
    "Q1.2 Write a function filter_long_words() that takes a list of words and an integer n and returns\n",
    "the list of words that are longer than n."
   ]
  },
  {
   "cell_type": "code",
   "execution_count": 7,
   "metadata": {},
   "outputs": [
    {
     "name": "stdout",
     "output_type": "stream",
     "text": [
      "alkfnajfn sjajs sajfba asjfasj asjcna 6\n",
      "alkfnajfn\n",
      "asjfasj\n"
     ]
    }
   ],
   "source": [
    "#defining the required function\n",
    "def filter_long_words(lst):\n",
    "    \n",
    "    #intializing temp for saving the output\n",
    "    temp =[]\n",
    "    \n",
    "    #separating the n from lst\n",
    "    n = int(lst[-1])\n",
    "    \n",
    "    #comparing each str with n\n",
    "    for i in lst[:-2]:\n",
    "        if n<len(i):\n",
    "            temp.append(i)\n",
    "    return temp\n",
    "            \n",
    "#taking the inputs    \n",
    "lst = list(map(str, input().split(\" \")))\n",
    "\n",
    "#calling the defined function\n",
    "out = filter_long_words(lst)\n",
    "\n",
    "#printing the ouput\n",
    "for i in out:\n",
    "    print(i)"
   ]
  },
  {
   "cell_type": "markdown",
   "metadata": {},
   "source": [
    "Q2.1 Write a Python program using function concept that maps list of words into a list of integers\n",
    "representing the lengths of the corresponding words.\n",
    "Hint: If a list [ab,cde,erty] is passed on to the python function output should come as [2,3,4]\n",
    "Here 2,3 and 4 are the lengths of the words in the list."
   ]
  },
  {
   "cell_type": "code",
   "execution_count": 8,
   "metadata": {},
   "outputs": [
    {
     "name": "stdout",
     "output_type": "stream",
     "text": [
      "abc krish ineuron\n",
      "[3, 5, 7]\n"
     ]
    }
   ],
   "source": [
    "#defining the required function\n",
    "def len_words(lst):\n",
    "    \n",
    "    #intializing temp for saving the output\n",
    "    temp =[]\n",
    "    \n",
    "    #adding the len of elements of lst in temp\n",
    "    for i in lst:\n",
    "        temp.append(len(i))\n",
    "    return temp\n",
    "\n",
    "#taking the inputs\n",
    "lst = list(map(str, input().split(\" \")))\n",
    "\n",
    "#calling the defined function\n",
    "out = len_words(lst)\n",
    "\n",
    "#printing the output\n",
    "print(out)"
   ]
  },
  {
   "cell_type": "markdown",
   "metadata": {},
   "source": [
    "Q2.2 Write a Python function which takes a character (i.e. a string of length 1) and returns True if\n",
    "it is a vowel, False otherwise."
   ]
  },
  {
   "cell_type": "code",
   "execution_count": 9,
   "metadata": {},
   "outputs": [
    {
     "name": "stdout",
     "output_type": "stream",
     "text": [
      "a\n",
      "True\n"
     ]
    }
   ],
   "source": [
    "#defining the required function\n",
    "def vowel(cha):\n",
    "    if cha==\"a\":\n",
    "        print(\"True\")\n",
    "    elif cha==\"e\":\n",
    "        print(\"True\")\n",
    "    elif cha==\"i\":\n",
    "        print(\"True\")\n",
    "    elif cha==\"o\":\n",
    "        print(\"True\")\n",
    "    elif cha==\"u\":\n",
    "        print(\"True\")\n",
    "    else:\n",
    "        print(\"False\")\n",
    "\n",
    "#taking the inputs        \n",
    "cha = str(input())\n",
    "\n",
    "#calling the defined function\n",
    "vowel(cha)"
   ]
  }
 ],
 "metadata": {
  "kernelspec": {
   "display_name": "Python 3",
   "language": "python",
   "name": "python3"
  },
  "language_info": {
   "codemirror_mode": {
    "name": "ipython",
    "version": 3
   },
   "file_extension": ".py",
   "mimetype": "text/x-python",
   "name": "python",
   "nbconvert_exporter": "python",
   "pygments_lexer": "ipython3",
   "version": "3.7.6"
  }
 },
 "nbformat": 4,
 "nbformat_minor": 4
}

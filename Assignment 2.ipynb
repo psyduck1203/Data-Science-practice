{
 "cells": [
  {
   "cell_type": "markdown",
   "metadata": {},
   "source": [
    "Q1. Create the below pattern using nested for loop in Python. \n",
    "\n",
    "\n",
    "\n",
    "    * \n",
    "    * * \n",
    "    * * * \n",
    "    * * * * \n",
    "    * * * * * \n",
    "    * * * * \n",
    "    * * * \n",
    "    * * \n",
    "    *\n"
   ]
  },
  {
   "cell_type": "code",
   "execution_count": 1,
   "metadata": {},
   "outputs": [
    {
     "name": "stdout",
     "output_type": "stream",
     "text": [
      "* \n",
      "* * \n",
      "* * * \n",
      "* * * * \n",
      "* * * * * \n",
      "* * * * \n",
      "* * * \n",
      "* * \n",
      "* \n"
     ]
    }
   ],
   "source": [
    "# creating a for loop for the upper pattern \n",
    "for i in range(5):\n",
    "    # i will range from 0 to 4 i.e. 1 to 5 in the print statement \n",
    "    print(\"* \"*(i+1))\n",
    "\n",
    "# creating a for loop for the lower pattern     \n",
    "for i in range(4):\n",
    "    # i will range from 0 to 3 i.e. 4 to 1 in the print statement\n",
    "    print(\"* \"*(4-i))"
   ]
  },
  {
   "cell_type": "markdown",
   "metadata": {},
   "source": [
    "Q2. Write a Python program to reverse a word after accepting the input from the user."
   ]
  },
  {
   "cell_type": "code",
   "execution_count": 2,
   "metadata": {},
   "outputs": [
    {
     "name": "stdout",
     "output_type": "stream",
     "text": [
      "ineuron\n",
      "norueni\n"
     ]
    }
   ],
   "source": [
    "#using slicing method\n",
    "\n",
    "# taking the input from the user and assigning it to \"word\" (the input in python3 is always a string unless mentioned)\n",
    "word = input() \n",
    "\n",
    "#printing the required output\n",
    "print(word[::-1])"
   ]
  },
  {
   "cell_type": "code",
   "execution_count": 3,
   "metadata": {},
   "outputs": [
    {
     "name": "stdout",
     "output_type": "stream",
     "text": [
      "ineuron\n",
      "norueni\n"
     ]
    }
   ],
   "source": [
    "#using loops\n",
    "\n",
    "#defined the function reverse to reverse the string\n",
    "def reverse(s):\n",
    "    str = \"\" \n",
    "    for i in s: \n",
    "        str = i + str\n",
    "    return str\n",
    "  \n",
    "#taking input\n",
    "word = input()\n",
    "\n",
    "#printing the required output\n",
    "print (reverse(word))"
   ]
  }
 ],
 "metadata": {
  "kernelspec": {
   "display_name": "Python 3",
   "language": "python",
   "name": "python3"
  },
  "language_info": {
   "codemirror_mode": {
    "name": "ipython",
    "version": 3
   },
   "file_extension": ".py",
   "mimetype": "text/x-python",
   "name": "python",
   "nbconvert_exporter": "python",
   "pygments_lexer": "ipython3",
   "version": "3.7.6"
  }
 },
 "nbformat": 4,
 "nbformat_minor": 4
}
